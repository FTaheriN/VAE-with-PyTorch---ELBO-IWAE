{
  "cells": [
    {
      "cell_type": "code",
      "execution_count": null,
      "id": "af462227-c6c5-4484-b6c9-527f3affafa8",
      "metadata": {
        "id": "af462227-c6c5-4484-b6c9-527f3affafa8"
      },
      "outputs": [],
      "source": [
        "import argparse\n",
        "import numpy as np\n",
        "from tqdm import tqdm\n",
        "from pprint import pprint\n",
        "from torchvision import datasets, transforms\n",
        "import torch\n",
        "import torch.nn.functional as F\n",
        "from torch import autograd, nn, optim\n",
        "from torch.nn import functional as F\n",
        "\n",
        "from torch.distributions.normal import Normal"
      ]
    },
    {
      "cell_type": "code",
      "source": [
        "# Latent dimensions\n",
        "z = 10\n",
        "# Training iterations\n",
        "iter_max = 50\n",
        "# Batch size\n",
        "batch_size = 100\n",
        "# For the optimizer\n",
        "learning_rate = 1e-3\n",
        "\n",
        "device = torch.device('cuda' if torch.cuda.is_available() else 'cpu')\n",
        "print(device)"
      ],
      "metadata": {
        "id": "hjJftkPT6lnH",
        "colab": {
          "base_uri": "https://localhost:8080/"
        },
        "outputId": "67408e80-5ed4-4b14-e29e-779f55f0cbef"
      },
      "id": "hjJftkPT6lnH",
      "execution_count": null,
      "outputs": [
        {
          "output_type": "stream",
          "name": "stdout",
          "text": [
            "cuda\n"
          ]
        }
      ]
    },
    {
      "cell_type": "markdown",
      "id": "9b8f37be-71b9-42d5-a055-81760ca991a1",
      "metadata": {
        "id": "9b8f37be-71b9-42d5-a055-81760ca991a1"
      },
      "source": [
        "### Load dataset"
      ]
    },
    {
      "cell_type": "code",
      "execution_count": null,
      "id": "9f0cf280-eaba-4685-92ec-53274e179329",
      "metadata": {
        "id": "9f0cf280-eaba-4685-92ec-53274e179329",
        "colab": {
          "base_uri": "https://localhost:8080/"
        },
        "outputId": "3aa4875e-957f-412e-9300-f6658e947b44"
      },
      "outputs": [
        {
          "output_type": "stream",
          "name": "stdout",
          "text": [
            "Downloading http://yann.lecun.com/exdb/mnist/train-images-idx3-ubyte.gz\n",
            "Downloading http://yann.lecun.com/exdb/mnist/train-images-idx3-ubyte.gz to data/MNIST/raw/train-images-idx3-ubyte.gz\n"
          ]
        },
        {
          "output_type": "stream",
          "name": "stderr",
          "text": [
            "100%|██████████| 9912422/9912422 [00:00<00:00, 113483836.15it/s]\n"
          ]
        },
        {
          "output_type": "stream",
          "name": "stdout",
          "text": [
            "Extracting data/MNIST/raw/train-images-idx3-ubyte.gz to data/MNIST/raw\n",
            "\n",
            "Downloading http://yann.lecun.com/exdb/mnist/train-labels-idx1-ubyte.gz\n",
            "Downloading http://yann.lecun.com/exdb/mnist/train-labels-idx1-ubyte.gz to data/MNIST/raw/train-labels-idx1-ubyte.gz\n"
          ]
        },
        {
          "output_type": "stream",
          "name": "stderr",
          "text": [
            "100%|██████████| 28881/28881 [00:00<00:00, 57573998.97it/s]\n"
          ]
        },
        {
          "output_type": "stream",
          "name": "stdout",
          "text": [
            "Extracting data/MNIST/raw/train-labels-idx1-ubyte.gz to data/MNIST/raw\n",
            "\n",
            "Downloading http://yann.lecun.com/exdb/mnist/t10k-images-idx3-ubyte.gz\n",
            "Downloading http://yann.lecun.com/exdb/mnist/t10k-images-idx3-ubyte.gz to data/MNIST/raw/t10k-images-idx3-ubyte.gz\n"
          ]
        },
        {
          "output_type": "stream",
          "name": "stderr",
          "text": [
            "100%|██████████| 1648877/1648877 [00:00<00:00, 28164327.33it/s]\n"
          ]
        },
        {
          "output_type": "stream",
          "name": "stdout",
          "text": [
            "Extracting data/MNIST/raw/t10k-images-idx3-ubyte.gz to data/MNIST/raw\n",
            "\n",
            "Downloading http://yann.lecun.com/exdb/mnist/t10k-labels-idx1-ubyte.gz\n",
            "Downloading http://yann.lecun.com/exdb/mnist/t10k-labels-idx1-ubyte.gz to data/MNIST/raw/t10k-labels-idx1-ubyte.gz\n"
          ]
        },
        {
          "output_type": "stream",
          "name": "stderr",
          "text": [
            "100%|██████████| 4542/4542 [00:00<00:00, 23317660.67it/s]\n"
          ]
        },
        {
          "output_type": "stream",
          "name": "stdout",
          "text": [
            "Extracting data/MNIST/raw/t10k-labels-idx1-ubyte.gz to data/MNIST/raw\n",
            "\n"
          ]
        },
        {
          "output_type": "stream",
          "name": "stderr",
          "text": [
            "/usr/local/lib/python3.10/dist-packages/torchvision/datasets/mnist.py:75: UserWarning: train_data has been renamed data\n",
            "  warnings.warn(\"train_data has been renamed data\")\n",
            "/usr/local/lib/python3.10/dist-packages/torchvision/datasets/mnist.py:65: UserWarning: train_labels has been renamed targets\n",
            "  warnings.warn(\"train_labels has been renamed targets\")\n",
            "/usr/local/lib/python3.10/dist-packages/torchvision/datasets/mnist.py:80: UserWarning: test_data has been renamed data\n",
            "  warnings.warn(\"test_data has been renamed data\")\n",
            "/usr/local/lib/python3.10/dist-packages/torchvision/datasets/mnist.py:70: UserWarning: test_labels has been renamed targets\n",
            "  warnings.warn(\"test_labels has been renamed targets\")\n"
          ]
        },
        {
          "output_type": "execute_result",
          "data": {
            "text/plain": [
              "<torch.utils.data.dataloader.DataLoader at 0x78aad903ee60>"
            ]
          },
          "metadata": {},
          "execution_count": 3
        }
      ],
      "source": [
        "def get_mnist_data(device, batch_size):\n",
        "    preprocess = transforms.ToTensor()\n",
        "    train_loader = torch.utils.data.DataLoader(\n",
        "        datasets.MNIST('data', train=True, download=True, transform=preprocess),\n",
        "        batch_size=batch_size,\n",
        "        shuffle=True)\n",
        "    test_loader = torch.utils.data.DataLoader(\n",
        "        datasets.MNIST('data', train=False, download=True, transform=preprocess),\n",
        "        batch_size=batch_size,\n",
        "        shuffle=True)\n",
        "\n",
        "    # Create pre-processed training and test sets\n",
        "    X_train = train_loader.dataset.train_data.to(device).reshape(-1, 784).float() / 255\n",
        "    y_train = train_loader.dataset.train_labels.to(device)\n",
        "    X_test = test_loader.dataset.test_data.to(device).reshape(-1, 784).float() / 255\n",
        "    y_test = test_loader.dataset.test_labels.to(device)\n",
        "\n",
        "    return train_loader, test_loader\n",
        "\n",
        "train_loader, test_loader = get_mnist_data(device, batch_size)\n",
        "train_loader"
      ]
    },
    {
      "cell_type": "markdown",
      "id": "e21d7c43",
      "metadata": {
        "id": "e21d7c43"
      },
      "source": [
        "### Utility Functions\n",
        "- Complete the code for the function ```sample_gaussian```"
      ]
    },
    {
      "cell_type": "code",
      "execution_count": null,
      "id": "0bea31b7",
      "metadata": {
        "id": "0bea31b7"
      },
      "outputs": [],
      "source": [
        "def gaussian_parameters(h, dim=-1):\n",
        "    \"\"\"\n",
        "    Converts generic real-valued representations into mean and variance\n",
        "    parameters of a Gaussian distribution\n",
        "\n",
        "    Args:\n",
        "        h: tensor: (batch, ..., dim, ...): Arbitrary tensor\n",
        "        dim: int: (): Dimension along which to split the tensor for mean and\n",
        "            variance\n",
        "\n",
        "    Returns:\n",
        "        m: tensor: (batch, ..., dim / 2, ...): Mean\n",
        "        v: tensor: (batch, ..., dim / 2, ...): Variance\n",
        "    \"\"\"\n",
        "    m, h = torch.split(h, h.size(dim) // 2, dim=dim)\n",
        "    v = F.softplus(h) + 1e-8\n",
        "    return m, v\n",
        "\n",
        "\n",
        "def sample_gaussian(m, v):\n",
        "    \"\"\"\n",
        "    Element-wise application reparameterization trick to sample from Gaussian\n",
        "\n",
        "    Args:\n",
        "        m: tensor: (batch, ...): Mean\n",
        "        v: tensor: (batch, ...): Variance\n",
        "\n",
        "    Return:\n",
        "        z: tensor: (batch, ...): Samples\n",
        "    \"\"\"\n",
        "    ################################################################################\n",
        "    # TODO: complete the code here\n",
        "    # Task: Sample z\n",
        "    batch, dim = m.shape\n",
        "\n",
        "    # generate a sample for each data point from a normal distribution\n",
        "    epsilon = Normal(0, 1).sample((batch, dim)).to(m.device)\n",
        "\n",
        "    # apply reparameterization trick\n",
        "    z = m + (torch.sqrt(v) * epsilon)\n",
        "\n",
        "    # End\n",
        "    ################################################################################\n",
        "\n",
        "    return z\n",
        "\n",
        "\n",
        "bce = torch.nn.BCEWithLogitsLoss(reduction='none')\n",
        "\n",
        "\n",
        "def log_bernoulli_with_logits(x, logits):\n",
        "    \"\"\"\n",
        "    Computes the log probability of a Bernoulli given its logits\n",
        "\n",
        "    Args:\n",
        "        x: tensor: (batch, dim): Observation\n",
        "        logits: tensor: (batch, dim): Bernoulli logits\n",
        "\n",
        "    Return:\n",
        "        log_prob: tensor: (batch,): log probability of each sample\n",
        "    \"\"\"\n",
        "    log_prob = -bce(input=logits, target=x).sum(-1)\n",
        "    return log_prob\n",
        "\n",
        "\n",
        "def kl_normal(qm, qv, pm, pv):\n",
        "    \"\"\"\n",
        "    Computes the elem-wise KL divergence between two normal distributions KL(q || p) and\n",
        "    sum over the last dimension\n",
        "\n",
        "    Args:\n",
        "        qm: tensor: (batch, dim): q mean\n",
        "        qv: tensor: (batch, dim): q variance\n",
        "        pm: tensor: (batch, dim): p mean\n",
        "        pv: tensor: (batch, dim): p variance\n",
        "\n",
        "    Return:\n",
        "        kl: tensor: (batch,): kl between each sample\n",
        "    \"\"\"\n",
        "    element_wise = 0.5 * (torch.log(pv) - torch.log(qv) + qv / pv + (qm - pm).pow(2) / pv - 1)\n",
        "    kl = element_wise.sum(-1)\n",
        "    return kl\n",
        "\n",
        "def duplicate(x, rep):\n",
        "    \"\"\"\n",
        "    Duplicates x along dim=0\n",
        "\n",
        "    Args:\n",
        "        x: tensor: (batch, ...): Arbitrary tensor\n",
        "        rep: int: (): Number of replicates. Setting rep=1 returns orignal x\n",
        "\n",
        "    Returns:\n",
        "        _: tensor: (batch * rep, ...): Arbitrary replicated tensor\n",
        "    \"\"\"\n",
        "    return x.expand(rep, *x.shape).reshape(-1, *x.shape[1:])\n",
        "\n",
        "def log_normal(x, m, v):\n",
        "    \"\"\"\n",
        "    Computes the elem-wise log probability of a Gaussian and then sum over the\n",
        "    last dim. Basically we're assuming all dims are batch dims except for the\n",
        "    last dim.\n",
        "\n",
        "    Args:\n",
        "        x: tensor: (batch_1, batch_2, ..., batch_k, dim): Observation\n",
        "        m: tensor: (batch_1, batch_2, ..., batch_k, dim): Mean\n",
        "        v: tensor: (batch_1, batch_2, ..., batch_k, dim): Variance\n",
        "\n",
        "    Return:\n",
        "        log_prob: tensor: (batch_1, batch_2, ..., batch_k): log probability of\n",
        "            each sample. Note that the summation dimension is not kept\n",
        "    \"\"\"\n",
        "    log_std = torch.log(torch.sqrt(v))\n",
        "    log_probs = -((x - m) ** 2) / (2 * v) - log_std - np.log(np.sqrt(2 * np.pi))\n",
        "    log_prob = log_probs.sum(-1)\n",
        "\n",
        "    ################################################################################\n",
        "    # End of code modification\n",
        "    ################################################################################\n",
        "    return log_prob\n",
        "\n",
        "def log_mean_exp(x, dim):\n",
        "    \"\"\"\n",
        "    Compute the log(mean(exp(x), dim)) in a numerically stable manner\n",
        "\n",
        "    Args:\n",
        "        x: tensor: (...): Arbitrary tensor\n",
        "        dim: int: (): Dimension along which mean is computed\n",
        "\n",
        "    Return:\n",
        "        _: tensor: (...): log(mean(exp(x), dim))\n",
        "    \"\"\"\n",
        "    return log_sum_exp(x, dim) - np.log(x.size(dim))\n",
        "\n",
        "def log_sum_exp(x, dim=0):\n",
        "    \"\"\"\n",
        "    Compute the log(sum(exp(x), dim)) in a numerically stable manner\n",
        "\n",
        "    Args:\n",
        "        x: tensor: (...): Arbitrary tensor\n",
        "        dim: int: (): Dimension along which sum is computed\n",
        "\n",
        "    Return:\n",
        "        _: tensor: (...): log(sum(exp(x), dim))\n",
        "    \"\"\"\n",
        "    max_x = torch.max(x, dim)[0]\n",
        "    new_x = x - max_x.unsqueeze(dim).expand_as(x)\n",
        "    return max_x + (new_x.exp().sum(dim)).log()"
      ]
    },
    {
      "cell_type": "markdown",
      "id": "0a8745d4",
      "metadata": {
        "id": "0a8745d4"
      },
      "source": [
        "### Base Models"
      ]
    },
    {
      "cell_type": "code",
      "execution_count": null,
      "id": "cf16d9b7",
      "metadata": {
        "id": "cf16d9b7"
      },
      "outputs": [],
      "source": [
        "class Encoder(nn.Module):\n",
        "    def __init__(self, z_dim, y_dim=0):\n",
        "        super().__init__()\n",
        "        self.z_dim = z_dim\n",
        "        self.y_dim = y_dim\n",
        "        self.net = nn.Sequential(\n",
        "            nn.Linear(784 + y_dim, 300),\n",
        "            nn.ELU(),\n",
        "            nn.Linear(300, 300),\n",
        "            nn.ELU(),\n",
        "            nn.Linear(300, 2 * z_dim),\n",
        "        )\n",
        "\n",
        "    def encode(self, x, y=None):\n",
        "        xy = x if y is None else torch.cat((x, y), dim=1)\n",
        "        h = self.net(xy)\n",
        "        m, v = gaussian_parameters(h, dim=1)\n",
        "        return m, v\n",
        "\n",
        "class Decoder(nn.Module):\n",
        "    def __init__(self, z_dim, y_dim=0):\n",
        "        super().__init__()\n",
        "        self.z_dim = z_dim\n",
        "        self.y_dim = y_dim\n",
        "        self.net = nn.Sequential(\n",
        "            nn.Linear(z_dim + y_dim, 300),\n",
        "            nn.ELU(),\n",
        "            nn.Linear(300, 300),\n",
        "            nn.ELU(),\n",
        "            nn.Linear(300, 784)\n",
        "        )\n",
        "\n",
        "    def decode(self, z, y=None):\n",
        "        zy = z if y is None else torch.cat((z, y), dim=1)\n",
        "        return self.net(zy)\n"
      ]
    },
    {
      "cell_type": "markdown",
      "id": "3db41efa",
      "metadata": {
        "id": "3db41efa"
      },
      "source": [
        "### VAE Model\n",
        "\n",
        "- Complete the functions ```negative_elbo_bound``` and ```negative_iwae_bound```. Make sure to use functions provided in the ***Utility*** and ***Base Model*** sections for your benefit when completing the code."
      ]
    },
    {
      "cell_type": "code",
      "execution_count": null,
      "id": "9aab515b",
      "metadata": {
        "id": "9aab515b"
      },
      "outputs": [],
      "source": [
        "class VAE(nn.Module):\n",
        "    def __init__(self, name='vae', z_dim=2):\n",
        "        super().__init__()\n",
        "        self.name = name\n",
        "        self.z_dim = z_dim\n",
        "\n",
        "        self.enc = Encoder(self.z_dim)\n",
        "        self.dec = Decoder(self.z_dim)\n",
        "\n",
        "        # Set prior as fixed parameter attached to Module\n",
        "        self.z_prior_m = torch.nn.Parameter(torch.zeros(1), requires_grad=False)\n",
        "        self.z_prior_v = torch.nn.Parameter(torch.ones(1), requires_grad=False)\n",
        "        self.z_prior = (self.z_prior_m, self.z_prior_v)\n",
        "\n",
        "    def negative_elbo_bound(self, x):\n",
        "        \"\"\"\n",
        "        Computes the Evidence Lower Bound, KL and, Reconstruction costs\n",
        "\n",
        "        Args:\n",
        "            x: tensor: (batch, dim): Observations\n",
        "\n",
        "        Returns:\n",
        "            nelbo: tensor: (): Negative evidence lower bound\n",
        "            kl_loss: tensor: (): ELBO KL divergence to prior\n",
        "            rec_loss: tensor: (): ELBO Reconstruction term\n",
        "        \"\"\"\n",
        "        ################################################################################\n",
        "        # TODO: complete the code here\n",
        "        # Task: Compute negative Evidence Lower Bound and its KL and Reconstruction term\n",
        "        # Note that nelbo = kl + rec\n",
        "        # Outputs should all be scalar\n",
        "\n",
        "        \"\"\"pass input through encoder and decoder\"\"\"\n",
        "        m, v = self.enc.encode(x)\n",
        "        z = sample_gaussian(m, v)\n",
        "        x_hat = self.dec.decode(z) #torch.sigmoid()\n",
        "\n",
        "        \"\"\"compute reconstruction \"\"\"\n",
        "        # Using util fnuction that calculates BCE\n",
        "\n",
        "        recon_loss = log_bernoulli_with_logits(x, x_hat) # .mean(dim=0)\n",
        "\n",
        "\n",
        "        \"\"\"compute KL divergence of two normal distributions\"\"\"\n",
        "        kl_loss = kl_normal(m, v, self.z_prior_m, self.z_prior_v) #.mean(dim=0)\n",
        "\n",
        "\n",
        "        \"\"\" compute negative elbo bound\"\"\"\n",
        "        nelbo = kl_loss - recon_loss\n",
        "\n",
        "        # End\n",
        "        ################################################################################\n",
        "\n",
        "        return nelbo.mean(dim=0), kl_loss.mean(dim=0), recon_loss.mean(dim=0)\n",
        "\n",
        "    def negative_iwae_bound(self, x, iw):\n",
        "        \"\"\"\n",
        "        Computes the Importance Weighted Autoencoder Bound\n",
        "        Additionally, we also compute the ELBO KL and reconstruction terms\n",
        "\n",
        "        Args:\n",
        "            x: tensor: (batch, dim): Observations\n",
        "            iw: int: (): Number of importance weighted samples\n",
        "\n",
        "        Returns:\n",
        "            niwae: tensor: (): Negative IWAE bound\n",
        "            kl: tensor: (): ELBO KL divergence to prior\n",
        "            rec: tensor: (): ELBO Reconstruction term\n",
        "        \"\"\"\n",
        "        ################################################################################\n",
        "        # TODO: Modify/complete the code here\n",
        "        # Compute niwae (negative IWAE) with iw importance samples, and the KL\n",
        "        # and Rec decomposition of the Evidence Lower Bound\n",
        "        #\n",
        "        # Outputs should all be scalar\n",
        "        ################################################################################\n",
        "        \"\"\" We want to have k samples for each generated z \"\"\"\n",
        "        m, v = self.enc.encode(x)\n",
        "        z = sample_gaussian(m, v)\n",
        "        z = duplicate(z, iw)\n",
        "        x_hat = self.dec.decode(z)\n",
        "\n",
        "        \"\"\" Reconstruction error is calculated as before on the samples \"\"\"\n",
        "        rec = log_bernoulli_with_logits(duplicate(x, iw), x_hat).mean(dim=0)\n",
        "\n",
        "        \"\"\" KL is the other part of formula that is needed to calculate IWAE \"\"\"\n",
        "        kl = kl_normal(m, v, self.z_prior_m, self.z_prior_v).mean(dim=0)\n",
        "\n",
        "        \"\"\" Log weights is the result of what goes in the expectation \"\"\"\n",
        "        log_weights = log_bernoulli_with_logits(duplicate(x, iw), x_hat) - kl\n",
        "\n",
        "\n",
        "        niwae = -(log_mean_exp(log_weights, dim=-1))\n",
        "\n",
        "        ################################################################################\n",
        "        # End of code modification\n",
        "        ################################################################################\n",
        "        return niwae, kl, rec\n",
        "\n",
        "\n",
        "    def loss(self, x):\n",
        "        # nelbo, kl, rec = self.negative_elbo_bound(x)##################################################iwae\n",
        "        # loss = nelbo\n",
        "\n",
        "        # summaries = dict((\n",
        "        #     ('train/loss', nelbo),\n",
        "        #     ('gen/elbo', -nelbo),\n",
        "        #     ('gen/kl_z', kl),\n",
        "        #     ('gen/rec', rec),\n",
        "        # ))\n",
        "\n",
        "        niwae, kl, rec = self.negative_iwae_bound(x, 5)\n",
        "        loss = niwae\n",
        "        summaries = dict((\n",
        "            ('train/loss', niwae),\n",
        "            ('gen/elbo', -niwae),\n",
        "            ('gen/kl_z', kl),\n",
        "            ('gen/rec', rec),\n",
        "        ))\n",
        "\n",
        "        return loss, summaries\n",
        "\n",
        "    def sample_sigmoid(self, batch):\n",
        "        z = self.sample_z(batch)\n",
        "        return self.compute_sigmoid_given(z)\n",
        "\n",
        "    def compute_sigmoid_given(self, z):\n",
        "        logits = self.dec.decode(z)\n",
        "        return torch.sigmoid(logits)\n",
        "\n",
        "    def sample_z(self, batch):\n",
        "        return sample_gaussian(\n",
        "            self.z_prior[0].expand(batch, self.z_dim),\n",
        "            self.z_prior[1].expand(batch, self.z_dim))\n",
        "\n",
        "    def sample_x(self, batch):\n",
        "        z = self.sample_z(batch)\n",
        "        return self.sample_x_given(z)\n",
        "\n",
        "    def sample_x_given(self, z):\n",
        "        return torch.bernoulli(self.compute_sigmoid_given(z))\n"
      ]
    },
    {
      "cell_type": "markdown",
      "id": "9063db87",
      "metadata": {
        "id": "9063db87"
      },
      "source": [
        "### Run model\n",
        "\n",
        "- You will probably need to add some lines to this code. (Add test set, save statistics and plot, ...)\n",
        "\n",
        "Note that Negative ELBO on the test set should be around 100."
      ]
    },
    {
      "cell_type": "markdown",
      "source": [
        "#### Util functions"
      ],
      "metadata": {
        "id": "83fqCm4qunMP"
      },
      "id": "83fqCm4qunMP"
    },
    {
      "cell_type": "code",
      "source": [
        "import csv\n",
        "\n",
        "\n",
        "def save_report(train_loss, train_kl, train_rec, test_loss, test_kl, test_rec):\n",
        "    file_path = \"/content/report.csv\"\n",
        "    rows = zip(train_loss, train_kl, train_rec, test_loss, test_kl, test_rec)\n",
        "    headers = ['train_nelbo', 'train_kl', 'train_recon', 'test_nelbo', 'test_kl', 'test_recon']\n",
        "\n",
        "    with open(file_path, \"w\") as f:\n",
        "        writer = csv.writer(f)\n",
        "        writer.writerow([g for g in headers])\n",
        "        for row in rows:\n",
        "            writer.writerow(row)\n",
        "    return"
      ],
      "metadata": {
        "id": "MfeAoDhJKxt4"
      },
      "id": "MfeAoDhJKxt4",
      "execution_count": null,
      "outputs": []
    },
    {
      "cell_type": "code",
      "source": [
        "import matplotlib.pyplot as plt\n",
        "def plot_acc_loss(train_loss, train_kl, train_rec, test_loss, test_kl, test_rec):\n",
        "    _, axes = plt.subplots(1, 3, figsize=(16, 4))\n",
        "    plt.suptitle(\"NELBO, KL  and Reconstruction for train and test data\", size=14)\n",
        "    train_kl = [x for x in train_kl]\n",
        "    test_kl = [x for x in test_kl]\n",
        "    axes[0].plot(list(range(1, len(train_kl)+1)), train_kl, 'b',label='train accuracy')\n",
        "    axes[0].plot(list(range(1, len(train_kl)+1)), test_kl, 'r', label='test accuracy')\n",
        "    axes[0].set_ylabel('KL ', size=12, labelpad=7)\n",
        "    axes[0].set_xlabel('Epoch', size=12, labelpad=10)\n",
        "    axes[0].legend(loc='lower right', fontsize=10)\n",
        "    axes[0].grid()\n",
        "\n",
        "    axes[1].plot(list(range(1, len(train_kl)+1)), train_loss, 'b', label='train loss')\n",
        "    axes[1].plot(list(range(1, len(train_kl)+1)), test_loss, 'r',label='test loss')\n",
        "    axes[1].set_ylabel('NELBO', size=12, labelpad=5)\n",
        "    axes[1].set_xlabel('Epoch', size=12, labelpad=10)\n",
        "    axes[1].legend(loc='best', fontsize=10)\n",
        "    axes[1].grid()\n",
        "\n",
        "    axes[2].plot(list(range(1, len(train_kl)+1)), train_rec, 'b', label='train rec')\n",
        "    axes[2].plot(list(range(1, len(train_kl)+1)), test_rec, 'r',label='test rec')\n",
        "    axes[2].set_ylabel('Reconstruction', size=12, labelpad=7)\n",
        "    axes[2].set_xlabel('Epoch', size=12, labelpad=10)\n",
        "    axes[2].legend(loc='best', fontsize=10)\n",
        "    axes[2].grid()\n",
        "\n",
        "    plt.show()"
      ],
      "metadata": {
        "id": "xER9PvuNH7mN"
      },
      "id": "xER9PvuNH7mN",
      "execution_count": null,
      "outputs": []
    },
    {
      "cell_type": "code",
      "source": [
        "def validation(model, epoch):\n",
        "    val_loss = 0\n",
        "    val_kl = 0\n",
        "    val_recon = 0\n",
        "    model.eval()\n",
        "    with torch.no_grad():\n",
        "        loop_valid = tqdm(enumerate(test_loader, 1), total=len(test_loader), desc=\"validation\", position=0, leave=True)\n",
        "        for index, (xu, yu) in loop_valid:\n",
        "\n",
        "            optimizer.zero_grad()\n",
        "\n",
        "            xu = torch.bernoulli(xu.to(device).reshape(xu.size(0), -1))\n",
        "            yu = yu.new(np.eye(10)[yu]).to(device).float()\n",
        "            loss, summaries = model.loss(xu)\n",
        "\n",
        "            loop_valid.set_description(f\"Validation - epoch : {epoch}\")\n",
        "            loop_valid.set_postfix(\n",
        "                    nelbo=\"{}\".format(summaries['train/loss'].detach().cpu().numpy()),\n",
        "                    KL   =\"{}\".format(summaries['gen/kl_z'].detach().cpu().numpy()),\n",
        "                    rec  =\"{}\".format(summaries['gen/rec'].detach().cpu().numpy()),\n",
        "                    refresh=True,\n",
        "            )\n",
        "            val_loss  += summaries['train/loss'].detach().cpu().numpy()\n",
        "            val_kl    += summaries['gen/kl_z'].detach().cpu().numpy()\n",
        "            val_recon += summaries['gen/rec'].detach().cpu().numpy()\n",
        "    print('\\n')\n",
        "    return val_loss/len(test_loader), val_kl/len(test_loader), val_recon/len(test_loader)"
      ],
      "metadata": {
        "id": "0YTqPFMDGbt_"
      },
      "id": "0YTqPFMDGbt_",
      "execution_count": null,
      "outputs": []
    },
    {
      "cell_type": "markdown",
      "source": [
        "#### Train"
      ],
      "metadata": {
        "id": "EQ_k8CS3uqwe"
      },
      "id": "EQ_k8CS3uqwe"
    },
    {
      "cell_type": "code",
      "execution_count": null,
      "id": "508bb63e-9cb8-4bd9-accc-8618e8edc966",
      "metadata": {
        "scrolled": true,
        "id": "508bb63e-9cb8-4bd9-accc-8618e8edc966",
        "colab": {
          "base_uri": "https://localhost:8080/",
          "height": 1000
        },
        "outputId": "9c23f507-e036-4696-caf9-d9d0e3602379"
      },
      "outputs": [
        {
          "output_type": "stream",
          "name": "stderr",
          "text": [
            "train - epoch : 0: 100%|██████████| 600/600 [00:13<00:00, 45.01it/s, KL=14.978086471557617, nelbo=117.63753509521484, rec=-102.65945434570312]\n",
            "Validation - epoch : 0: 100%|██████████| 100/100 [00:01<00:00, 52.31it/s, KL=15.037672996520996, nelbo=127.35517120361328, rec=-112.3175048828125]\n",
            "  2%|▏         | 1/50 [00:15<12:27, 15.26s/it]"
          ]
        },
        {
          "output_type": "stream",
          "name": "stdout",
          "text": [
            "\n",
            "\n"
          ]
        },
        {
          "output_type": "stream",
          "name": "stderr",
          "text": [
            "train - epoch : 1: 100%|██████████| 600/600 [00:13<00:00, 44.38it/s, KL=16.8107852935791, nelbo=122.47373962402344, rec=-105.66294860839844]\n",
            "Validation - epoch : 1: 100%|██████████| 100/100 [00:01<00:00, 53.32it/s, KL=16.577117919921875, nelbo=111.78501892089844, rec=-95.2079086303711]\n",
            "  4%|▍         | 2/50 [00:30<12:16, 15.34s/it]"
          ]
        },
        {
          "output_type": "stream",
          "name": "stdout",
          "text": [
            "\n",
            "\n"
          ]
        },
        {
          "output_type": "stream",
          "name": "stderr",
          "text": [
            "train - epoch : 2: 100%|██████████| 600/600 [00:13<00:00, 45.66it/s, KL=17.209327697753906, nelbo=112.94923400878906, rec=-95.73989868164062]\n",
            "Validation - epoch : 2: 100%|██████████| 100/100 [00:01<00:00, 54.87it/s, KL=17.200225830078125, nelbo=109.69205474853516, rec=-92.49183654785156]\n",
            "  6%|▌         | 3/50 [00:45<11:53, 15.18s/it]"
          ]
        },
        {
          "output_type": "stream",
          "name": "stdout",
          "text": [
            "\n",
            "\n"
          ]
        },
        {
          "output_type": "stream",
          "name": "stderr",
          "text": [
            "train - epoch : 3: 100%|██████████| 600/600 [00:13<00:00, 45.69it/s, KL=17.307878494262695, nelbo=102.48027038574219, rec=-85.17240142822266]\n",
            "Validation - epoch : 3: 100%|██████████| 100/100 [00:01<00:00, 53.38it/s, KL=17.849403381347656, nelbo=115.29025268554688, rec=-97.44084930419922]\n",
            "  8%|▊         | 4/50 [01:00<11:35, 15.12s/it]"
          ]
        },
        {
          "output_type": "stream",
          "name": "stdout",
          "text": [
            "\n",
            "\n"
          ]
        },
        {
          "output_type": "stream",
          "name": "stderr",
          "text": [
            "train - epoch : 4: 100%|██████████| 600/600 [00:13<00:00, 44.79it/s, KL=18.156293869018555, nelbo=107.90702819824219, rec=-89.75074005126953]\n",
            "Validation - epoch : 4: 100%|██████████| 100/100 [00:01<00:00, 53.95it/s, KL=17.954837799072266, nelbo=109.7245101928711, rec=-91.76966857910156]\n",
            " 10%|█         | 5/50 [01:15<11:22, 15.17s/it]"
          ]
        },
        {
          "output_type": "stream",
          "name": "stdout",
          "text": [
            "\n",
            "\n"
          ]
        },
        {
          "output_type": "stream",
          "name": "stderr",
          "text": [
            "train - epoch : 5: 100%|██████████| 600/600 [00:13<00:00, 45.62it/s, KL=18.33735466003418, nelbo=108.52742767333984, rec=-90.19007873535156]\n",
            "Validation - epoch : 5: 100%|██████████| 100/100 [00:01<00:00, 53.69it/s, KL=18.5002498626709, nelbo=105.46231842041016, rec=-86.96206665039062]\n",
            " 12%|█▏        | 6/50 [01:30<11:05, 15.12s/it]"
          ]
        },
        {
          "output_type": "stream",
          "name": "stdout",
          "text": [
            "\n",
            "\n"
          ]
        },
        {
          "output_type": "stream",
          "name": "stderr",
          "text": [
            "train - epoch : 6: 100%|██████████| 600/600 [00:13<00:00, 45.50it/s, KL=18.33060073852539, nelbo=109.37738800048828, rec=-91.04679107666016]\n",
            "Validation - epoch : 6: 100%|██████████| 100/100 [00:01<00:00, 53.80it/s, KL=18.516080856323242, nelbo=103.36331176757812, rec=-84.84722137451172]\n",
            " 14%|█▍        | 7/50 [01:46<10:49, 15.10s/it]"
          ]
        },
        {
          "output_type": "stream",
          "name": "stdout",
          "text": [
            "\n",
            "\n"
          ]
        },
        {
          "output_type": "stream",
          "name": "stderr",
          "text": [
            "train - epoch : 7: 100%|██████████| 600/600 [00:13<00:00, 44.63it/s, KL=18.36553382873535, nelbo=106.7042465209961, rec=-88.33870697021484]\n",
            "Validation - epoch : 7: 100%|██████████| 100/100 [00:01<00:00, 53.85it/s, KL=18.391334533691406, nelbo=103.27127075195312, rec=-84.87992858886719]\n",
            " 16%|█▌        | 8/50 [02:01<10:37, 15.17s/it]"
          ]
        },
        {
          "output_type": "stream",
          "name": "stdout",
          "text": [
            "\n",
            "\n"
          ]
        },
        {
          "output_type": "stream",
          "name": "stderr",
          "text": [
            "train - epoch : 8: 100%|██████████| 600/600 [00:13<00:00, 45.58it/s, KL=18.579248428344727, nelbo=104.81328582763672, rec=-86.23403930664062]\n",
            "Validation - epoch : 8: 100%|██████████| 100/100 [00:01<00:00, 54.89it/s, KL=18.707014083862305, nelbo=104.38307189941406, rec=-85.67605590820312]\n",
            " 18%|█▊        | 9/50 [02:16<10:19, 15.12s/it]"
          ]
        },
        {
          "output_type": "stream",
          "name": "stdout",
          "text": [
            "\n",
            "\n"
          ]
        },
        {
          "output_type": "stream",
          "name": "stderr",
          "text": [
            "train - epoch : 9: 100%|██████████| 600/600 [00:13<00:00, 45.51it/s, KL=18.938640594482422, nelbo=106.32130432128906, rec=-87.3826675415039]\n",
            "Validation - epoch : 9: 100%|██████████| 100/100 [00:02<00:00, 49.35it/s, KL=19.04280662536621, nelbo=106.50457000732422, rec=-87.46175384521484]\n",
            " 20%|██        | 10/50 [02:31<10:06, 15.15s/it]"
          ]
        },
        {
          "output_type": "stream",
          "name": "stdout",
          "text": [
            "\n",
            "\n"
          ]
        },
        {
          "output_type": "stream",
          "name": "stderr",
          "text": [
            "train - epoch : 10: 100%|██████████| 600/600 [00:13<00:00, 45.31it/s, KL=18.766010284423828, nelbo=100.87062072753906, rec=-82.1046142578125]\n",
            "Validation - epoch : 10: 100%|██████████| 100/100 [00:02<00:00, 43.26it/s, KL=19.150596618652344, nelbo=108.7410888671875, rec=-89.59048461914062]\n",
            " 22%|██▏       | 11/50 [02:47<09:55, 15.28s/it]"
          ]
        },
        {
          "output_type": "stream",
          "name": "stdout",
          "text": [
            "\n",
            "\n"
          ]
        },
        {
          "output_type": "stream",
          "name": "stderr",
          "text": [
            "train - epoch : 11: 100%|██████████| 600/600 [00:13<00:00, 45.67it/s, KL=18.645023345947266, nelbo=103.23550415039062, rec=-84.59048461914062]\n",
            "Validation - epoch : 11: 100%|██████████| 100/100 [00:02<00:00, 46.54it/s, KL=18.653173446655273, nelbo=99.58824920654297, rec=-80.93507385253906]\n",
            " 24%|██▍       | 12/50 [03:02<09:40, 15.29s/it]"
          ]
        },
        {
          "output_type": "stream",
          "name": "stdout",
          "text": [
            "\n",
            "\n"
          ]
        },
        {
          "output_type": "stream",
          "name": "stderr",
          "text": [
            "train - epoch : 12: 100%|██████████| 600/600 [00:13<00:00, 45.98it/s, KL=19.07906723022461, nelbo=105.16983795166016, rec=-86.09078216552734]\n",
            "Validation - epoch : 12: 100%|██████████| 100/100 [00:02<00:00, 45.80it/s, KL=18.969905853271484, nelbo=104.3805923461914, rec=-85.41068267822266]\n",
            " 26%|██▌       | 13/50 [03:17<09:25, 15.27s/it]"
          ]
        },
        {
          "output_type": "stream",
          "name": "stdout",
          "text": [
            "\n",
            "\n"
          ]
        },
        {
          "output_type": "stream",
          "name": "stderr",
          "text": [
            "train - epoch : 13: 100%|██████████| 600/600 [00:12<00:00, 46.25it/s, KL=18.72475242614746, nelbo=100.56986236572266, rec=-81.84510040283203]\n",
            "Validation - epoch : 13: 100%|██████████| 100/100 [00:02<00:00, 46.37it/s, KL=18.934329986572266, nelbo=99.67823791503906, rec=-80.74390411376953]\n",
            " 28%|██▊       | 14/50 [03:32<09:08, 15.23s/it]"
          ]
        },
        {
          "output_type": "stream",
          "name": "stdout",
          "text": [
            "\n",
            "\n"
          ]
        },
        {
          "output_type": "stream",
          "name": "stderr",
          "text": [
            "train - epoch : 14: 100%|██████████| 600/600 [00:12<00:00, 46.39it/s, KL=18.949687957763672, nelbo=104.07398223876953, rec=-85.12431335449219]\n",
            "Validation - epoch : 14: 100%|██████████| 100/100 [00:02<00:00, 48.07it/s, KL=19.173831939697266, nelbo=102.93092346191406, rec=-83.75708770751953]\n",
            " 30%|███       | 15/50 [03:47<08:51, 15.17s/it]"
          ]
        },
        {
          "output_type": "stream",
          "name": "stdout",
          "text": [
            "\n",
            "\n"
          ]
        },
        {
          "output_type": "stream",
          "name": "stderr",
          "text": [
            "train - epoch : 15: 100%|██████████| 600/600 [00:13<00:00, 45.90it/s, KL=19.56778335571289, nelbo=104.8861312866211, rec=-85.318359375]\n",
            "Validation - epoch : 15: 100%|██████████| 100/100 [00:01<00:00, 52.72it/s, KL=19.37278938293457, nelbo=98.09117126464844, rec=-78.71837615966797]\n",
            " 32%|███▏      | 16/50 [04:02<08:33, 15.12s/it]"
          ]
        },
        {
          "output_type": "stream",
          "name": "stdout",
          "text": [
            "\n",
            "\n"
          ]
        },
        {
          "output_type": "stream",
          "name": "stderr",
          "text": [
            "train - epoch : 16: 100%|██████████| 600/600 [00:13<00:00, 45.75it/s, KL=18.81834602355957, nelbo=100.61007690429688, rec=-81.79171752929688]\n",
            "Validation - epoch : 16: 100%|██████████| 100/100 [00:01<00:00, 54.18it/s, KL=19.069969177246094, nelbo=105.27613067626953, rec=-86.20616149902344]\n",
            " 34%|███▍      | 17/50 [04:17<08:17, 15.08s/it]"
          ]
        },
        {
          "output_type": "stream",
          "name": "stdout",
          "text": [
            "\n",
            "\n"
          ]
        },
        {
          "output_type": "stream",
          "name": "stderr",
          "text": [
            "train - epoch : 17: 100%|██████████| 600/600 [00:13<00:00, 45.70it/s, KL=18.930824279785156, nelbo=103.74977111816406, rec=-84.81895446777344]\n",
            "Validation - epoch : 17: 100%|██████████| 100/100 [00:01<00:00, 53.35it/s, KL=19.378795623779297, nelbo=105.3988037109375, rec=-86.02000427246094]\n",
            " 36%|███▌      | 18/50 [04:32<08:01, 15.06s/it]"
          ]
        },
        {
          "output_type": "stream",
          "name": "stdout",
          "text": [
            "\n",
            "\n"
          ]
        },
        {
          "output_type": "stream",
          "name": "stderr",
          "text": [
            "train - epoch : 18: 100%|██████████| 600/600 [00:13<00:00, 44.56it/s, KL=19.26776123046875, nelbo=100.94290924072266, rec=-81.67515563964844]\n",
            "Validation - epoch : 18: 100%|██████████| 100/100 [00:01<00:00, 53.17it/s, KL=18.701622009277344, nelbo=101.48892211914062, rec=-82.78730010986328]\n",
            " 38%|███▊      | 19/50 [04:48<07:49, 15.15s/it]"
          ]
        },
        {
          "output_type": "stream",
          "name": "stdout",
          "text": [
            "\n",
            "\n"
          ]
        },
        {
          "output_type": "stream",
          "name": "stderr",
          "text": [
            "train - epoch : 19: 100%|██████████| 600/600 [00:13<00:00, 44.91it/s, KL=18.974151611328125, nelbo=99.75648498535156, rec=-80.78233337402344]\n",
            "Validation - epoch : 19: 100%|██████████| 100/100 [00:01<00:00, 52.89it/s, KL=18.887968063354492, nelbo=103.25018310546875, rec=-84.36221313476562]\n",
            " 40%|████      | 20/50 [05:03<07:35, 15.19s/it]"
          ]
        },
        {
          "output_type": "stream",
          "name": "stdout",
          "text": [
            "\n",
            "\n"
          ]
        },
        {
          "output_type": "stream",
          "name": "stderr",
          "text": [
            "train - epoch : 20: 100%|██████████| 600/600 [00:13<00:00, 45.10it/s, KL=19.480512619018555, nelbo=98.93318939208984, rec=-79.45267486572266]\n",
            "Validation - epoch : 20: 100%|██████████| 100/100 [00:01<00:00, 54.46it/s, KL=19.160043716430664, nelbo=100.36964416503906, rec=-81.2095947265625]\n",
            " 42%|████▏     | 21/50 [05:18<07:20, 15.18s/it]"
          ]
        },
        {
          "output_type": "stream",
          "name": "stdout",
          "text": [
            "\n",
            "\n"
          ]
        },
        {
          "output_type": "stream",
          "name": "stderr",
          "text": [
            "train - epoch : 21: 100%|██████████| 600/600 [00:13<00:00, 44.60it/s, KL=19.29692840576172, nelbo=102.52183532714844, rec=-83.22492218017578]\n",
            "Validation - epoch : 21: 100%|██████████| 100/100 [00:01<00:00, 53.62it/s, KL=18.694303512573242, nelbo=96.42620849609375, rec=-77.73190307617188]\n",
            " 44%|████▍     | 22/50 [05:33<07:06, 15.22s/it]"
          ]
        },
        {
          "output_type": "stream",
          "name": "stdout",
          "text": [
            "\n",
            "\n"
          ]
        },
        {
          "output_type": "stream",
          "name": "stderr",
          "text": [
            "train - epoch : 22: 100%|██████████| 600/600 [00:13<00:00, 45.27it/s, KL=19.75542640686035, nelbo=105.67384338378906, rec=-85.91841888427734]\n",
            "Validation - epoch : 22: 100%|██████████| 100/100 [00:01<00:00, 54.27it/s, KL=19.349071502685547, nelbo=101.060302734375, rec=-81.71123504638672]\n",
            " 46%|████▌     | 23/50 [05:49<06:50, 15.19s/it]"
          ]
        },
        {
          "output_type": "stream",
          "name": "stdout",
          "text": [
            "\n",
            "\n"
          ]
        },
        {
          "output_type": "stream",
          "name": "stderr",
          "text": [
            "train - epoch : 23: 100%|██████████| 600/600 [00:13<00:00, 44.56it/s, KL=19.71311378479004, nelbo=97.70291137695312, rec=-77.98979187011719]\n",
            "Validation - epoch : 23: 100%|██████████| 100/100 [00:02<00:00, 49.94it/s, KL=19.261089324951172, nelbo=100.73587036132812, rec=-81.47478485107422]\n",
            " 48%|████▊     | 24/50 [06:04<06:37, 15.28s/it]"
          ]
        },
        {
          "output_type": "stream",
          "name": "stdout",
          "text": [
            "\n",
            "\n"
          ]
        },
        {
          "output_type": "stream",
          "name": "stderr",
          "text": [
            "train - epoch : 24: 100%|██████████| 600/600 [00:13<00:00, 45.08it/s, KL=19.16675567626953, nelbo=101.28182220458984, rec=-82.11507415771484]\n",
            "Validation - epoch : 24: 100%|██████████| 100/100 [00:01<00:00, 52.02it/s, KL=18.67827796936035, nelbo=97.49861145019531, rec=-78.82032775878906]\n",
            " 50%|█████     | 25/50 [06:19<06:21, 15.27s/it]"
          ]
        },
        {
          "output_type": "stream",
          "name": "stdout",
          "text": [
            "\n",
            "\n"
          ]
        },
        {
          "output_type": "stream",
          "name": "stderr",
          "text": [
            "train - epoch : 25: 100%|██████████| 600/600 [00:13<00:00, 45.27it/s, KL=19.795841217041016, nelbo=101.45877075195312, rec=-81.66292572021484]\n",
            "Validation - epoch : 25: 100%|██████████| 100/100 [00:02<00:00, 47.12it/s, KL=19.661001205444336, nelbo=102.15133666992188, rec=-82.4903335571289]\n",
            " 52%|█████▏    | 26/50 [06:35<06:07, 15.31s/it]"
          ]
        },
        {
          "output_type": "stream",
          "name": "stdout",
          "text": [
            "\n",
            "\n"
          ]
        },
        {
          "output_type": "stream",
          "name": "stderr",
          "text": [
            "train - epoch : 26: 100%|██████████| 600/600 [00:13<00:00, 45.65it/s, KL=19.566091537475586, nelbo=102.9335708618164, rec=-83.36747741699219]\n",
            "Validation - epoch : 26: 100%|██████████| 100/100 [00:02<00:00, 42.78it/s, KL=19.624902725219727, nelbo=99.52937316894531, rec=-79.90446472167969]\n",
            " 54%|█████▍    | 27/50 [06:50<05:53, 15.37s/it]"
          ]
        },
        {
          "output_type": "stream",
          "name": "stdout",
          "text": [
            "\n",
            "\n"
          ]
        },
        {
          "output_type": "stream",
          "name": "stderr",
          "text": [
            "train - epoch : 27: 100%|██████████| 600/600 [00:13<00:00, 45.34it/s, KL=19.358518600463867, nelbo=96.04495239257812, rec=-76.6864242553711]\n",
            "Validation - epoch : 27: 100%|██████████| 100/100 [00:02<00:00, 43.08it/s, KL=19.661861419677734, nelbo=104.2845687866211, rec=-84.62271118164062]\n",
            " 56%|█████▌    | 28/50 [07:06<05:39, 15.43s/it]"
          ]
        },
        {
          "output_type": "stream",
          "name": "stdout",
          "text": [
            "\n",
            "\n"
          ]
        },
        {
          "output_type": "stream",
          "name": "stderr",
          "text": [
            "train - epoch : 28: 100%|██████████| 600/600 [00:13<00:00, 45.90it/s, KL=19.20564079284668, nelbo=98.90021514892578, rec=-79.69457244873047]\n",
            "Validation - epoch : 28: 100%|██████████| 100/100 [00:02<00:00, 43.31it/s, KL=19.637048721313477, nelbo=106.259033203125, rec=-86.62199401855469]\n",
            " 58%|█████▊    | 29/50 [07:21<05:23, 15.42s/it]"
          ]
        },
        {
          "output_type": "stream",
          "name": "stdout",
          "text": [
            "\n",
            "\n"
          ]
        },
        {
          "output_type": "stream",
          "name": "stderr",
          "text": [
            "train - epoch : 29: 100%|██████████| 600/600 [00:13<00:00, 45.44it/s, KL=19.765972137451172, nelbo=96.34388732910156, rec=-76.57791900634766]\n",
            "Validation - epoch : 29: 100%|██████████| 100/100 [00:02<00:00, 47.59it/s, KL=19.444231033325195, nelbo=96.35880279541016, rec=-76.91456604003906]\n",
            " 60%|██████    | 30/50 [07:36<05:07, 15.39s/it]"
          ]
        },
        {
          "output_type": "stream",
          "name": "stdout",
          "text": [
            "\n",
            "\n"
          ]
        },
        {
          "output_type": "stream",
          "name": "stderr",
          "text": [
            "train - epoch : 30: 100%|██████████| 600/600 [00:13<00:00, 43.81it/s, KL=19.30500602722168, nelbo=103.56083679199219, rec=-84.2558364868164]\n",
            "Validation - epoch : 30: 100%|██████████| 100/100 [00:01<00:00, 52.59it/s, KL=18.900524139404297, nelbo=96.13066864013672, rec=-77.23014831542969]\n",
            " 62%|██████▏   | 31/50 [07:52<04:53, 15.46s/it]"
          ]
        },
        {
          "output_type": "stream",
          "name": "stdout",
          "text": [
            "\n",
            "\n"
          ]
        },
        {
          "output_type": "stream",
          "name": "stderr",
          "text": [
            "train - epoch : 31: 100%|██████████| 600/600 [00:13<00:00, 43.61it/s, KL=19.5622501373291, nelbo=101.940673828125, rec=-82.37841796875]\n",
            "Validation - epoch : 31: 100%|██████████| 100/100 [00:01<00:00, 53.19it/s, KL=19.15867042541504, nelbo=100.86261749267578, rec=-81.70394897460938]\n",
            " 64%|██████▍   | 32/50 [08:08<04:39, 15.52s/it]"
          ]
        },
        {
          "output_type": "stream",
          "name": "stdout",
          "text": [
            "\n",
            "\n"
          ]
        },
        {
          "output_type": "stream",
          "name": "stderr",
          "text": [
            "train - epoch : 32: 100%|██████████| 600/600 [00:13<00:00, 44.68it/s, KL=19.042491912841797, nelbo=98.62482452392578, rec=-79.58232879638672]\n",
            "Validation - epoch : 32: 100%|██████████| 100/100 [00:01<00:00, 52.25it/s, KL=19.011751174926758, nelbo=101.84898376464844, rec=-82.83722686767578]\n",
            " 66%|██████▌   | 33/50 [08:23<04:22, 15.47s/it]"
          ]
        },
        {
          "output_type": "stream",
          "name": "stdout",
          "text": [
            "\n",
            "\n"
          ]
        },
        {
          "output_type": "stream",
          "name": "stderr",
          "text": [
            "train - epoch : 33: 100%|██████████| 600/600 [00:13<00:00, 44.29it/s, KL=19.46255111694336, nelbo=97.27167510986328, rec=-77.80912017822266]\n",
            "Validation - epoch : 33: 100%|██████████| 100/100 [00:01<00:00, 52.48it/s, KL=19.22406768798828, nelbo=99.90967559814453, rec=-80.68560028076172]\n",
            " 68%|██████▊   | 34/50 [08:39<04:07, 15.47s/it]"
          ]
        },
        {
          "output_type": "stream",
          "name": "stdout",
          "text": [
            "\n",
            "\n"
          ]
        },
        {
          "output_type": "stream",
          "name": "stderr",
          "text": [
            "train - epoch : 34: 100%|██████████| 600/600 [00:13<00:00, 44.71it/s, KL=19.566415786743164, nelbo=96.1752700805664, rec=-76.60884857177734]\n",
            "Validation - epoch : 34: 100%|██████████| 100/100 [00:01<00:00, 52.19it/s, KL=19.138545989990234, nelbo=96.40101623535156, rec=-77.26246643066406]\n",
            " 70%|███████   | 35/50 [08:54<03:51, 15.44s/it]"
          ]
        },
        {
          "output_type": "stream",
          "name": "stdout",
          "text": [
            "\n",
            "\n"
          ]
        },
        {
          "output_type": "stream",
          "name": "stderr",
          "text": [
            "train - epoch : 35: 100%|██████████| 600/600 [00:13<00:00, 43.40it/s, KL=19.473731994628906, nelbo=101.8360824584961, rec=-82.36234283447266]\n",
            "Validation - epoch : 35: 100%|██████████| 100/100 [00:01<00:00, 52.01it/s, KL=19.456939697265625, nelbo=104.3724365234375, rec=-84.91549682617188]\n",
            " 72%|███████▏  | 36/50 [09:10<03:37, 15.54s/it]"
          ]
        },
        {
          "output_type": "stream",
          "name": "stdout",
          "text": [
            "\n",
            "\n"
          ]
        },
        {
          "output_type": "stream",
          "name": "stderr",
          "text": [
            "train - epoch : 36: 100%|██████████| 600/600 [00:13<00:00, 44.79it/s, KL=19.1957950592041, nelbo=95.68289947509766, rec=-76.48710632324219]\n",
            "Validation - epoch : 36: 100%|██████████| 100/100 [00:01<00:00, 53.03it/s, KL=19.014673233032227, nelbo=95.92103576660156, rec=-76.90635681152344]\n",
            " 74%|███████▍  | 37/50 [09:25<03:21, 15.46s/it]"
          ]
        },
        {
          "output_type": "stream",
          "name": "stdout",
          "text": [
            "\n",
            "\n"
          ]
        },
        {
          "output_type": "stream",
          "name": "stderr",
          "text": [
            "train - epoch : 37: 100%|██████████| 600/600 [00:13<00:00, 44.24it/s, KL=19.556182861328125, nelbo=103.33502960205078, rec=-83.77884674072266]\n",
            "Validation - epoch : 37: 100%|██████████| 100/100 [00:01<00:00, 50.46it/s, KL=19.326908111572266, nelbo=101.74636840820312, rec=-82.41944885253906]\n",
            " 76%|███████▌  | 38/50 [09:41<03:05, 15.49s/it]"
          ]
        },
        {
          "output_type": "stream",
          "name": "stdout",
          "text": [
            "\n",
            "\n"
          ]
        },
        {
          "output_type": "stream",
          "name": "stderr",
          "text": [
            "train - epoch : 38: 100%|██████████| 600/600 [00:13<00:00, 44.71it/s, KL=19.774967193603516, nelbo=98.37406158447266, rec=-78.5990982055664]\n",
            "Validation - epoch : 38: 100%|██████████| 100/100 [00:02<00:00, 46.86it/s, KL=18.92888069152832, nelbo=93.87507629394531, rec=-74.9461898803711]\n",
            " 78%|███████▊  | 39/50 [09:56<02:50, 15.52s/it]"
          ]
        },
        {
          "output_type": "stream",
          "name": "stdout",
          "text": [
            "\n",
            "\n"
          ]
        },
        {
          "output_type": "stream",
          "name": "stderr",
          "text": [
            "train - epoch : 39: 100%|██████████| 600/600 [00:13<00:00, 44.44it/s, KL=19.869903564453125, nelbo=98.89434051513672, rec=-79.02444458007812]\n",
            "Validation - epoch : 39: 100%|██████████| 100/100 [00:02<00:00, 42.90it/s, KL=19.923234939575195, nelbo=105.68608856201172, rec=-85.76284790039062]\n",
            " 80%|████████  | 40/50 [10:12<02:36, 15.62s/it]"
          ]
        },
        {
          "output_type": "stream",
          "name": "stdout",
          "text": [
            "\n",
            "\n"
          ]
        },
        {
          "output_type": "stream",
          "name": "stderr",
          "text": [
            "train - epoch : 40: 100%|██████████| 600/600 [00:13<00:00, 44.81it/s, KL=19.531368255615234, nelbo=103.2890625, rec=-83.75767517089844]\n",
            "Validation - epoch : 40: 100%|██████████| 100/100 [00:02<00:00, 41.53it/s, KL=19.546293258666992, nelbo=98.93569946289062, rec=-79.38939666748047]\n",
            " 82%|████████▏ | 41/50 [10:28<02:21, 15.68s/it]"
          ]
        },
        {
          "output_type": "stream",
          "name": "stdout",
          "text": [
            "\n",
            "\n"
          ]
        },
        {
          "output_type": "stream",
          "name": "stderr",
          "text": [
            "train - epoch : 41: 100%|██████████| 600/600 [00:13<00:00, 44.89it/s, KL=19.07623291015625, nelbo=96.94548797607422, rec=-77.86924743652344]\n",
            "Validation - epoch : 41: 100%|██████████| 100/100 [00:02<00:00, 45.88it/s, KL=19.19951820373535, nelbo=94.410888671875, rec=-75.21136474609375]\n",
            " 84%|████████▍ | 42/50 [10:43<02:05, 15.64s/it]"
          ]
        },
        {
          "output_type": "stream",
          "name": "stdout",
          "text": [
            "\n",
            "\n"
          ]
        },
        {
          "output_type": "stream",
          "name": "stderr",
          "text": [
            "train - epoch : 42: 100%|██████████| 600/600 [00:13<00:00, 44.97it/s, KL=18.973377227783203, nelbo=95.75320434570312, rec=-76.77983093261719]\n",
            "Validation - epoch : 42: 100%|██████████| 100/100 [00:01<00:00, 51.85it/s, KL=19.679847717285156, nelbo=104.0321273803711, rec=-84.3522720336914]\n",
            " 86%|████████▌ | 43/50 [10:59<01:48, 15.54s/it]"
          ]
        },
        {
          "output_type": "stream",
          "name": "stdout",
          "text": [
            "\n",
            "\n"
          ]
        },
        {
          "output_type": "stream",
          "name": "stderr",
          "text": [
            "train - epoch : 43: 100%|██████████| 600/600 [00:13<00:00, 43.89it/s, KL=19.381366729736328, nelbo=100.19986724853516, rec=-80.81849670410156]\n",
            "Validation - epoch : 43: 100%|██████████| 100/100 [00:01<00:00, 52.88it/s, KL=19.434011459350586, nelbo=97.43267059326172, rec=-77.9986572265625]\n",
            " 88%|████████▊ | 44/50 [11:14<01:33, 15.55s/it]"
          ]
        },
        {
          "output_type": "stream",
          "name": "stdout",
          "text": [
            "\n",
            "\n"
          ]
        },
        {
          "output_type": "stream",
          "name": "stderr",
          "text": [
            "train - epoch : 44: 100%|██████████| 600/600 [00:13<00:00, 43.91it/s, KL=19.4542179107666, nelbo=96.82046508789062, rec=-77.36624908447266]\n",
            "Validation - epoch : 44: 100%|██████████| 100/100 [00:01<00:00, 52.17it/s, KL=19.63041877746582, nelbo=100.06449890136719, rec=-80.43406677246094]\n",
            " 90%|█████████ | 45/50 [11:30<01:17, 15.56s/it]"
          ]
        },
        {
          "output_type": "stream",
          "name": "stdout",
          "text": [
            "\n",
            "\n"
          ]
        },
        {
          "output_type": "stream",
          "name": "stderr",
          "text": [
            "train - epoch : 45: 100%|██████████| 600/600 [00:13<00:00, 44.48it/s, KL=19.257211685180664, nelbo=94.35083770751953, rec=-75.09362030029297]\n",
            "Validation - epoch : 45: 100%|██████████| 100/100 [00:01<00:00, 52.75it/s, KL=19.404592514038086, nelbo=98.07767486572266, rec=-78.67308044433594]\n",
            " 92%|█████████▏| 46/50 [11:45<01:02, 15.51s/it]"
          ]
        },
        {
          "output_type": "stream",
          "name": "stdout",
          "text": [
            "\n",
            "\n"
          ]
        },
        {
          "output_type": "stream",
          "name": "stderr",
          "text": [
            "train - epoch : 46: 100%|██████████| 600/600 [00:13<00:00, 44.07it/s, KL=19.628570556640625, nelbo=100.64370727539062, rec=-81.01513671875]\n",
            "Validation - epoch : 46: 100%|██████████| 100/100 [00:01<00:00, 52.22it/s, KL=19.658065795898438, nelbo=100.8744888305664, rec=-81.2164306640625]\n",
            " 94%|█████████▍| 47/50 [12:01<00:46, 15.52s/it]"
          ]
        },
        {
          "output_type": "stream",
          "name": "stdout",
          "text": [
            "\n",
            "\n"
          ]
        },
        {
          "output_type": "stream",
          "name": "stderr",
          "text": [
            "train - epoch : 47: 100%|██████████| 600/600 [00:13<00:00, 44.14it/s, KL=19.334354400634766, nelbo=97.7490234375, rec=-78.41466522216797]\n",
            "Validation - epoch : 47: 100%|██████████| 100/100 [00:01<00:00, 53.13it/s, KL=19.591075897216797, nelbo=106.05200958251953, rec=-86.4609375]\n",
            " 96%|█████████▌| 48/50 [12:16<00:31, 15.52s/it]"
          ]
        },
        {
          "output_type": "stream",
          "name": "stdout",
          "text": [
            "\n",
            "\n"
          ]
        },
        {
          "output_type": "stream",
          "name": "stderr",
          "text": [
            "train - epoch : 48: 100%|██████████| 600/600 [00:13<00:00, 44.17it/s, KL=19.514171600341797, nelbo=98.46317291259766, rec=-78.94898986816406]\n",
            "Validation - epoch : 48: 100%|██████████| 100/100 [00:01<00:00, 52.10it/s, KL=19.77493667602539, nelbo=102.1025161743164, rec=-82.32758331298828]\n",
            " 98%|█████████▊| 49/50 [12:32<00:15, 15.52s/it]"
          ]
        },
        {
          "output_type": "stream",
          "name": "stdout",
          "text": [
            "\n",
            "\n"
          ]
        },
        {
          "output_type": "stream",
          "name": "stderr",
          "text": [
            "train - epoch : 49: 100%|██████████| 600/600 [00:13<00:00, 43.31it/s, KL=20.06086540222168, nelbo=103.97390747070312, rec=-83.91303253173828]\n",
            "Validation - epoch : 49: 100%|██████████| 100/100 [00:01<00:00, 51.49it/s, KL=19.142908096313477, nelbo=93.17005920410156, rec=-74.02714538574219]\n",
            "100%|██████████| 50/50 [12:48<00:00, 15.36s/it]\n"
          ]
        },
        {
          "output_type": "stream",
          "name": "stdout",
          "text": [
            "\n",
            "\n"
          ]
        },
        {
          "output_type": "display_data",
          "data": {
            "text/plain": [
              "<Figure size 1600x400 with 3 Axes>"
            ],
            "image/png": "[encoded data removed]"
          },
          "metadata": {}
        }
      ],
      "source": [
        "vae = VAE(z_dim=z).to(device)\n",
        "optimizer = optim.Adam(vae.parameters(), lr=learning_rate)\n",
        "\n",
        "ls_train_loss = []\n",
        "ls_train_kl = []\n",
        "ls_train_recon = []\n",
        "ls_val_loss = []\n",
        "ls_val_kl = []\n",
        "ls_val_recon = []\n",
        "\n",
        "for epoch in tqdm(range(iter_max)):\n",
        "    train_loss = 0\n",
        "    train_kl = 0\n",
        "    train_recon = 0\n",
        "    loop_train = tqdm(enumerate(train_loader, 1), total=len(train_loader), desc=\"train\", position=0, leave=True)\n",
        "    for index, (xu, yu) in loop_train:\n",
        "\n",
        "        optimizer.zero_grad()\n",
        "\n",
        "        xu = torch.bernoulli(xu.to(device).reshape(xu.size(0), -1))\n",
        "        yu = yu.new(np.eye(10)[yu]).to(device).float()\n",
        "        loss, summaries = vae.loss(xu)\n",
        "\n",
        "        loss.backward()\n",
        "        optimizer.step()\n",
        "\n",
        "        loop_train.set_description(f\"train - epoch : {epoch}\")\n",
        "        loop_train.set_postfix(\n",
        "                    nelbo=\"{}\".format(summaries['train/loss'].detach().cpu().numpy()),\n",
        "                    KL   =\"{}\".format(summaries['gen/kl_z'].detach().cpu().numpy()),\n",
        "                    rec  =\"{}\".format(summaries['gen/rec'].detach().cpu().numpy()),\n",
        "                    refresh=True,)\n",
        "\n",
        "        train_loss  += summaries['train/loss'].detach().cpu().numpy()\n",
        "        train_kl    += summaries['gen/kl_z'].detach().cpu().numpy()\n",
        "        train_recon += summaries['gen/rec'].detach().cpu().numpy()\n",
        "\n",
        "    val_loss, val_kl, val_recon = validation(vae, epoch)\n",
        "\n",
        "    ls_train_loss.append(train_loss / len(train_loader))\n",
        "    ls_train_kl.append(train_kl   / len(train_loader))\n",
        "    ls_train_recon.append(train_recon/ len(train_loader))\n",
        "    ls_val_loss.append(val_loss)\n",
        "    ls_val_kl.append(val_kl)\n",
        "    ls_val_recon.append(val_recon)\n",
        "\n",
        "\n",
        "\n",
        "save_report(ls_train_loss, ls_train_kl, ls_train_recon, ls_val_loss, ls_val_kl, ls_val_recon)\n",
        "plot_acc_loss(ls_train_loss, ls_train_kl, ls_train_recon, ls_val_loss, ls_val_kl, ls_val_recon)"
      ]
    },
    {
      "cell_type": "markdown",
      "source": [
        "## IWAE Tests"
      ],
      "metadata": {
        "id": "Yyq1rXQFt4iG"
      },
      "id": "Yyq1rXQFt4iG"
    },
    {
      "cell_type": "markdown",
      "source": [
        "### Loss on test set with nelbo"
      ],
      "metadata": {
        "id": "PaxWhY2At8nu"
      },
      "id": "PaxWhY2At8nu"
    },
    {
      "cell_type": "code",
      "source": [
        "vae = VAE(z_dim=z).to(device)\n",
        "optimizer = optim.Adam(vae.parameters(), lr=learning_rate)\n",
        "\n",
        "val_loss, val_kl, val_recon = validation(vae, 1)"
      ],
      "metadata": {
        "colab": {
          "base_uri": "https://localhost:8080/"
        },
        "id": "P1BWlBInUyxE",
        "outputId": "efb9240b-5326-444c-9d7d-754e89bb6a8d"
      },
      "id": "P1BWlBInUyxE",
      "execution_count": null,
      "outputs": [
        {
          "output_type": "stream",
          "name": "stderr",
          "text": [
            "Validation - epoch : 1: 100%|██████████| 100/100 [00:01<00:00, 55.69it/s, KL=0.30526918172836304, nelbo=546.8663330078125, rec=-546.5610961914062]"
          ]
        },
        {
          "output_type": "stream",
          "name": "stdout",
          "text": [
            "\n",
            "\n"
          ]
        },
        {
          "output_type": "stream",
          "name": "stderr",
          "text": [
            "\n"
          ]
        }
      ]
    },
    {
      "cell_type": "code",
      "source": [
        "val_loss, val_kl, val_recon = validation(vae, 1)"
      ],
      "metadata": {
        "colab": {
          "base_uri": "https://localhost:8080/"
        },
        "id": "1sj_B_kMMwO3",
        "outputId": "afd913c3-8be7-4efb-e9d6-cad1109b015c"
      },
      "execution_count": null,
      "outputs": [
        {
          "output_type": "stream",
          "name": "stderr",
          "text": [
            "Validation - epoch : 1: 100%|██████████| 100/100 [00:03<00:00, 29.73it/s, KL=19.559810638427734, nelbo=99.45643615722656, rec=-79.89662170410156]"
          ]
        },
        {
          "output_type": "stream",
          "name": "stdout",
          "text": [
            "\n",
            "\n"
          ]
        },
        {
          "output_type": "stream",
          "name": "stderr",
          "text": [
            "\n"
          ]
        }
      ],
      "id": "1sj_B_kMMwO3"
    },
    {
      "cell_type": "markdown",
      "source": [
        "### Loss on test set with IWAE - 5"
      ],
      "metadata": {
        "id": "m7mSeCL4uEaL"
      },
      "id": "m7mSeCL4uEaL"
    },
    {
      "cell_type": "code",
      "source": [
        "vae = VAE(z_dim=z).to(device)\n",
        "optimizer = optim.Adam(vae.parameters(), lr=learning_rate)\n",
        "\n",
        "val_loss, val_kl, val_recon = validation(vae, 1)"
      ],
      "metadata": {
        "colab": {
          "base_uri": "https://localhost:8080/"
        },
        "id": "ZAP9_I1iU3IE",
        "outputId": "e99f32c8-ff6b-4448-dc84-768cca53e5c4"
      },
      "id": "ZAP9_I1iU3IE",
      "execution_count": null,
      "outputs": [
        {
          "output_type": "stream",
          "name": "stderr",
          "text": [
            "Validation - epoch : 1: 100%|██████████| 100/100 [00:01<00:00, 53.15it/s, KL=0.37245887517929077, nelbo=545.2730102539062, rec=-546.187255859375]"
          ]
        },
        {
          "output_type": "stream",
          "name": "stdout",
          "text": [
            "\n",
            "\n"
          ]
        },
        {
          "output_type": "stream",
          "name": "stderr",
          "text": [
            "\n"
          ]
        }
      ]
    },
    {
      "cell_type": "code",
      "source": [
        "val_loss, val_kl, val_recon = validation(vae, 1)"
      ],
      "metadata": {
        "colab": {
          "base_uri": "https://localhost:8080/"
        },
        "id": "S0p1EgnyMrNY",
        "outputId": "256ea6ff-f326-41db-84a0-9a30d63a1b13"
      },
      "execution_count": null,
      "outputs": [
        {
          "output_type": "stream",
          "name": "stderr",
          "text": [
            "Validation - epoch : 1: 100%|██████████| 100/100 [00:01<00:00, 54.30it/s, KL=18.875499725341797, nelbo=96.5013198852539, rec=-77.62581634521484]"
          ]
        },
        {
          "output_type": "stream",
          "name": "stdout",
          "text": [
            "\n",
            "\n"
          ]
        },
        {
          "output_type": "stream",
          "name": "stderr",
          "text": [
            "\n"
          ]
        }
      ],
      "id": "S0p1EgnyMrNY"
    },
    {
      "cell_type": "markdown",
      "source": [
        "### Loss on test set with IWAE - 50"
      ],
      "metadata": {
        "id": "REn9R9o6uQaW"
      },
      "id": "REn9R9o6uQaW"
    },
    {
      "cell_type": "code",
      "source": [
        "vae = VAE(z_dim=z).to(device)\n",
        "optimizer = optim.Adam(vae.parameters(), lr=learning_rate)\n",
        "\n",
        "val_loss, val_kl, val_recon = validation(vae, 1)"
      ],
      "metadata": {
        "colab": {
          "base_uri": "https://localhost:8080/"
        },
        "id": "gV3WRbzjYcvs",
        "outputId": "c43ca6cf-8138-45cf-b965-8fadedd886a3"
      },
      "id": "gV3WRbzjYcvs",
      "execution_count": null,
      "outputs": [
        {
          "output_type": "stream",
          "name": "stderr",
          "text": [
            "Validation - epoch : 1: 100%|██████████| 100/100 [00:02<00:00, 46.28it/s, KL=0.3449932932853699, nelbo=544.4006958007812, rec=-545.5133666992188]"
          ]
        },
        {
          "output_type": "stream",
          "name": "stdout",
          "text": [
            "\n",
            "\n"
          ]
        },
        {
          "output_type": "stream",
          "name": "stderr",
          "text": [
            "\n"
          ]
        }
      ]
    },
    {
      "cell_type": "code",
      "source": [
        "val_loss, val_kl, val_recon = validation(vae, 1)"
      ],
      "metadata": {
        "colab": {
          "base_uri": "https://localhost:8080/"
        },
        "id": "MGfGR-r4M6RG",
        "outputId": "83761ee4-55cd-4492-8bd7-8d7a9d61413b"
      },
      "execution_count": null,
      "outputs": [
        {
          "output_type": "stream",
          "name": "stderr",
          "text": [
            "Validation - epoch : 1: 100%|██████████| 100/100 [00:03<00:00, 31.14it/s, KL=18.62396240234375, nelbo=95.56156158447266, rec=-76.9375991821289]"
          ]
        },
        {
          "output_type": "stream",
          "name": "stdout",
          "text": [
            "\n",
            "\n"
          ]
        },
        {
          "output_type": "stream",
          "name": "stderr",
          "text": [
            "\n"
          ]
        }
      ],
      "id": "MGfGR-r4M6RG"
    },
    {
      "cell_type": "markdown",
      "source": [
        "### Loss on test set with IWAE - 150"
      ],
      "metadata": {
        "id": "I8ZtJAbhuYGn"
      },
      "id": "I8ZtJAbhuYGn"
    },
    {
      "cell_type": "code",
      "source": [
        "vae = VAE(z_dim=z).to(device)\n",
        "optimizer = optim.Adam(vae.parameters(), lr=learning_rate)\n",
        "\n",
        "val_loss, val_kl, val_recon = validation(vae, 1)"
      ],
      "metadata": {
        "colab": {
          "base_uri": "https://localhost:8080/"
        },
        "outputId": "31c12c40-3d4f-49c4-bede-21afa969763b",
        "id": "Zib37wR_uYGo"
      },
      "execution_count": null,
      "outputs": [
        {
          "output_type": "stream",
          "name": "stderr",
          "text": [
            "Validation - epoch : 1: 100%|██████████| 100/100 [00:03<00:00, 28.11it/s, KL=0.28802040219306946, nelbo=545.723388671875, rec=-546.5172119140625]"
          ]
        },
        {
          "output_type": "stream",
          "name": "stdout",
          "text": [
            "\n",
            "\n"
          ]
        },
        {
          "output_type": "stream",
          "name": "stderr",
          "text": [
            "\n"
          ]
        }
      ],
      "id": "Zib37wR_uYGo"
    },
    {
      "cell_type": "code",
      "source": [
        "val_loss, val_kl, val_recon = validation(vae, 1)"
      ],
      "metadata": {
        "colab": {
          "base_uri": "https://localhost:8080/"
        },
        "id": "jCqqGe8qM6U8",
        "outputId": "a0f19edf-f32b-4615-d2c9-640ee73ed1ea"
      },
      "execution_count": null,
      "outputs": [
        {
          "output_type": "stream",
          "name": "stderr",
          "text": [
            "Validation - epoch : 1: 100%|██████████| 100/100 [00:01<00:00, 50.07it/s, KL=19.199417114257812, nelbo=96.57144165039062, rec=-77.37203216552734]"
          ]
        },
        {
          "output_type": "stream",
          "name": "stdout",
          "text": [
            "\n",
            "\n"
          ]
        },
        {
          "output_type": "stream",
          "name": "stderr",
          "text": [
            "\n"
          ]
        }
      ],
      "id": "jCqqGe8qM6U8"
    }
  ],
  "metadata": {
    "kernelspec": {
      "display_name": "Python 3",
      "name": "python3"
    },
    "language_info": {
      "codemirror_mode": {
        "name": "ipython",
        "version": 3
      },
      "file_extension": ".py",
      "mimetype": "text/x-python",
      "name": "python",
      "nbconvert_exporter": "python",
      "pygments_lexer": "ipython3",
      "version": "3.8.12"
    },
    "colab": {
      "provenance": [],
      "gpuType": "T4",
      "collapsed_sections": [
        "9b8f37be-71b9-42d5-a055-81760ca991a1",
        "e21d7c43",
        "0a8745d4",
        "3db41efa",
        "83fqCm4qunMP",
        "EQ_k8CS3uqwe",
        "PaxWhY2At8nu",
        "m7mSeCL4uEaL",
        "REn9R9o6uQaW",
        "I8ZtJAbhuYGn"
      ]
    },
    "accelerator": "GPU"
  },
  "nbformat": 4,
  "nbformat_minor": 5
}